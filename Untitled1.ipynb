{
 "cells": [
  {
   "cell_type": "code",
   "execution_count": 2,
   "id": "be882161-6a04-448a-aa2b-8c2540a1bae6",
   "metadata": {},
   "outputs": [
    {
     "name": "stdout",
     "output_type": "stream",
     "text": [
      "Дані успішно завантажено. Кількість рядків: 13800\n",
      "Цільова змінна (target) створена для прогнозу на 1 свічку вперед.\n",
      "Кількість прикладів для тренування: 13800\n",
      "Дані розділено на тренувальну (80%) та тестову (20%) вибірки.\n",
      "Характеристики масштабовано.\n",
      "\n",
      "Починаємо тренування моделі LightGBM...\n",
      "[LightGBM] [Info] Number of positive: 5555, number of negative: 5485\n",
      "[LightGBM] [Info] Auto-choosing col-wise multi-threading, the overhead of testing was 0.001848 seconds.\n",
      "You can set `force_col_wise=true` to remove the overhead.\n",
      "[LightGBM] [Info] Total Bins 1275\n",
      "[LightGBM] [Info] Number of data points in the train set: 11040, number of used features: 5\n",
      "[LightGBM] [Info] [binary:BoostFromScore]: pavg=0.503170 -> initscore=0.012681\n",
      "[LightGBM] [Info] Start training from score 0.012681\n",
      "Модель успішно натренована.\n",
      "\n",
      "--- Оцінка якості моделі на даних, яких вона не бачила ---\n",
      "Точність (Accuracy): 51.20%\n",
      "\n",
      "Детальний звіт:\n"
     ]
    },
    {
     "name": "stderr",
     "output_type": "stream",
     "text": [
      "C:\\Users\\Admin\\AppData\\Local\\Programs\\Python\\Python311\\Lib\\site-packages\\sklearn\\utils\\validation.py:2749: UserWarning: X does not have valid feature names, but LGBMClassifier was fitted with feature names\n",
      "  warnings.warn(\n"
     ]
    },
    {
     "name": "stdout",
     "output_type": "stream",
     "text": [
      "              precision    recall  f1-score   support\n",
      "\n",
      "           0       0.53      0.44      0.48      1419\n",
      "           1       0.50      0.59      0.54      1341\n",
      "\n",
      "    accuracy                           0.51      2760\n",
      "   macro avg       0.51      0.51      0.51      2760\n",
      "weighted avg       0.51      0.51      0.51      2760\n",
      "\n",
      "\n",
      "Натренована модель та скейлер збережені у файли 'lgbm_model.pkl' та 'lgbm_scaler.pkl'.\n"
     ]
    }
   ],
   "source": [
    "import pandas as pd\n",
    "import numpy as np\n",
    "import lightgbm as lgb\n",
    "from sklearn.model_selection import train_test_split\n",
    "from sklearn.preprocessing import StandardScaler\n",
    "from sklearn.metrics import accuracy_score, classification_report\n",
    "import joblib\n",
    "\n",
    "# --- 1. Завантажуємо та готуємо дані ---\n",
    "try:\n",
    "    df = pd.read_csv(\"data/EURUSD_15m_history.csv\", parse_dates=['ts'])\n",
    "    print(f\"Дані успішно завантажено. Кількість рядків: {len(df)}\")\n",
    "except FileNotFoundError:\n",
    "    print(\"Помилка: файл 'data/EURUSD_15m_history.csv' не знайдено.\")\n",
    "    exit()\n",
    "\n",
    "# --- 2. Створюємо \"ціль\" для прогнозу (Target Engineering) ---\n",
    "# Наше завдання - спрогнозувати, чи буде ціна закриття через N свічок вищою за поточну.\n",
    "# Це і є симуляція виграшу/програшу для опціону \"CALL\".\n",
    "EXPIRATION_CANDLES = 1 # Прогноз на 1 свічку (15 хвилин) вперед\n",
    "df['target'] = np.where(df['Close'].shift(-EXPIRATION_CANDLES) > df['Close'], 1, 0)\n",
    "print(f\"Цільова змінна (target) створена для прогнозу на {EXPIRATION_CANDLES} свічку вперед.\")\n",
    "\n",
    "# --- 3. Визначаємо характеристики (Features) та ціль (Target) ---\n",
    "df.dropna(inplace=True) # Видаляємо останні рядки, де ми не можемо знати майбутнє\n",
    "features = ['ATR', 'ADX', 'RSI', 'EMA50', 'EMA200']\n",
    "X = df[features]\n",
    "y = df['target']\n",
    "print(f\"Кількість прикладів для тренування: {len(df)}\")\n",
    "\n",
    "# --- 4. Розділяємо дані на тренувальні та тестові ---\n",
    "# Важливо! Для часових рядів не можна перемішувати дані.\n",
    "X_train, X_test, y_train, y_test = train_test_split(X, y, test_size=0.2, shuffle=False)\n",
    "print(\"Дані розділено на тренувальну (80%) та тестову (20%) вибірки.\")\n",
    "\n",
    "# --- 5. Масштабування даних ---\n",
    "scaler = StandardScaler()\n",
    "X_train_scaled = scaler.fit_transform(X_train)\n",
    "X_test_scaled = scaler.transform(X_test)\n",
    "print(\"Характеристики масштабовано.\")\n",
    "\n",
    "# --- 6. Тренування моделі LightGBM ---\n",
    "print(\"\\nПочинаємо тренування моделі LightGBM...\")\n",
    "lgbm = lgb.LGBMClassifier(random_state=42)\n",
    "lgbm.fit(X_train_scaled, y_train)\n",
    "print(\"Модель успішно натренована.\")\n",
    "\n",
    "# --- 7. Оцінка точності моделі на тестових даних ---\n",
    "y_pred = lgbm.predict(X_test_scaled)\n",
    "accuracy = accuracy_score(y_test, y_pred)\n",
    "print(\"\\n--- Оцінка якості моделі на даних, яких вона не бачила ---\")\n",
    "print(f\"Точність (Accuracy): {accuracy:.2%}\")\n",
    "print(\"\\nДетальний звіт:\")\n",
    "print(classification_report(y_test, y_pred))\n",
    "\n",
    "# --- 8. Зберігаємо фінальну модель та скейлер ---\n",
    "joblib.dump(lgbm, 'lgbm_model.pkl')\n",
    "joblib.dump(scaler, 'lgbm_scaler.pkl') # Зберігаємо скейлер, він потрібен для нових даних\n",
    "print(\"\\nНатренована модель та скейлер збережені у файли 'lgbm_model.pkl' та 'lgbm_scaler.pkl'.\")"
   ]
  },
  {
   "cell_type": "code",
   "execution_count": null,
   "id": "905a0a75-7e89-4f96-bd06-128ab2a8ab0b",
   "metadata": {},
   "outputs": [],
   "source": []
  }
 ],
 "metadata": {
  "kernelspec": {
   "display_name": "Python 3 (ipykernel)",
   "language": "python",
   "name": "python3"
  },
  "language_info": {
   "codemirror_mode": {
    "name": "ipython",
    "version": 3
   },
   "file_extension": ".py",
   "mimetype": "text/x-python",
   "name": "python",
   "nbconvert_exporter": "python",
   "pygments_lexer": "ipython3",
   "version": "3.11.0"
  }
 },
 "nbformat": 4,
 "nbformat_minor": 5
}
